{
 "cells": [
  {
   "cell_type": "code",
   "execution_count": 5,
   "id": "48916160-8b8c-4001-84df-0a8a239a2026",
   "metadata": {},
   "outputs": [
    {
     "name": "stdout",
     "output_type": "stream",
     "text": [
      "{'top_5_item_ids': ['F03FE16033A30DAEE0531512620AC1A1', 'F39E93C29D052923E0531512620AECF8', 'F03FE160341F0DAEE0531512620AC1A1', 'F03FE16036430DAEE0531512620AC1A1', 'F03FE16039270DAEE0531512620AC1A1']}\n"
     ]
    }
   ],
   "source": [
    "import requests\n",
    "import json\n",
    "\n",
    "url = \"http://10.140.0.35:5000/predict\"  # Update with your server's IP address and port\n",
    "\n",
    "data = {\n",
    "    \"sme_ban\": \"12345678\",\n",
    "    \"features\": {\n",
    "        'q_organizationsize_level': 3, 'q_planningtime_level': 2, 'q_budget_level': 1,\n",
    "        'opscore1': 4, 'opscore2': 3, 'marscore1': 3, 'marscore2': 2, 'salescore1': 1, 'salescore2': 2,\n",
    "        'securscore1': 2, 'securscore2': 3, 'remotescore1': 1, 'remotescore2': 2, 'schedscore1': 2,\n",
    "        'schedscore2': 3, 'sme_age': 5, 'capital': 10000, 'employee_count': 50,\n",
    "        'ind_large_A': 0, 'ind_large_B': 1, 'ind_large_C': 0, 'ind_large_D': 0,\n",
    "        'ind_large_E': 0, 'ind_large_F': 0, 'ind_large_G': 0, 'ind_large_H': 0,\n",
    "        'ind_large_I': 0, 'ind_large_J': 0, 'ind_large_K': 0, 'ind_large_L': 0,\n",
    "        'ind_large_M': 0, 'ind_large_N': 0, 'ind_large_P': 0, 'ind_large_Q': 0,\n",
    "        'ind_large_R': 0, 'ind_large_S': 0\n",
    "    }\n",
    "}\n",
    "\n",
    "response = requests.post(url, json=data)\n",
    "\n",
    "print(response.json())\n",
    "\n"
   ]
  },
  {
   "cell_type": "code",
   "execution_count": null,
   "id": "23b23e5e-5e6b-4207-a77a-ac5af9a40896",
   "metadata": {},
   "outputs": [],
   "source": []
  }
 ],
 "metadata": {
  "environment": {
   "kernel": "python3",
   "name": "tf2-gpu.2-8.m108",
   "type": "gcloud",
   "uri": "gcr.io/deeplearning-platform-release/tf2-gpu.2-8:m108"
  },
  "kernelspec": {
   "display_name": "Python 3 (ipykernel)",
   "language": "python",
   "name": "python3"
  },
  "language_info": {
   "codemirror_mode": {
    "name": "ipython",
    "version": 3
   },
   "file_extension": ".py",
   "mimetype": "text/x-python",
   "name": "python",
   "nbconvert_exporter": "python",
   "pygments_lexer": "ipython3",
   "version": "3.7.12"
  }
 },
 "nbformat": 4,
 "nbformat_minor": 5
}

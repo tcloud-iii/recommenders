{
 "cells": [
  {
   "cell_type": "code",
   "execution_count": 1,
   "id": "c47e38c7-57d2-4997-be59-2ffc844c5c2a",
   "metadata": {},
   "outputs": [],
   "source": [
    "required_packages = [\n",
    "    \"google-cloud-bigquery\",\n",
    "    \"pandas\",\n",
    "    \"numpy\",\n",
    "    \"shap\",\n",
    "    \"scikit-learn\",\n",
    "    \"Flask\",\n",
    "    \"flask-cors\",\n",
    "    \"tensorflow\",\n",
    "    \"gunicorn\"\n",
    "]\n",
    "\n",
    "with open('requirements.txt', 'r') as f:\n",
    "    lines = f.readlines()\n",
    "\n",
    "filtered_packages = [line for line in lines if any(pkg in line for pkg in required_packages)]\n",
    "\n",
    "with open('filtered_requirements.txt', 'w') as f:\n",
    "    for line in filtered_packages:\n",
    "        f.write(line)\n"
   ]
  },
  {
   "cell_type": "code",
   "execution_count": null,
   "id": "3ab6c79d-e0d4-4657-b5d4-f576f6e27d34",
   "metadata": {},
   "outputs": [],
   "source": []
  }
 ],
 "metadata": {
  "environment": {
   "kernel": "python3",
   "name": "tf2-gpu.2-8.m108",
   "type": "gcloud",
   "uri": "gcr.io/deeplearning-platform-release/tf2-gpu.2-8:m108"
  },
  "kernelspec": {
   "display_name": "Python 3 (ipykernel)",
   "language": "python",
   "name": "python3"
  },
  "language_info": {
   "codemirror_mode": {
    "name": "ipython",
    "version": 3
   },
   "file_extension": ".py",
   "mimetype": "text/x-python",
   "name": "python",
   "nbconvert_exporter": "python",
   "pygments_lexer": "ipython3",
   "version": "3.7.12"
  }
 },
 "nbformat": 4,
 "nbformat_minor": 5
}
